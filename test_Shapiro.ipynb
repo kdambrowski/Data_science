{
  "nbformat": 4,
  "nbformat_minor": 0,
  "metadata": {
    "colab": {
      "provenance": [],
      "authorship_tag": "ABX9TyOVVAZbJXS7JAMxG/I70GC9",
      "include_colab_link": true
    },
    "kernelspec": {
      "name": "python3",
      "display_name": "Python 3"
    },
    "language_info": {
      "name": "python"
    }
  },
  "cells": [
    {
      "cell_type": "markdown",
      "metadata": {
        "id": "view-in-github",
        "colab_type": "text"
      },
      "source": [
        "<a href=\"https://colab.research.google.com/github/kdambrowski/Data_science/blob/main/test_Shapiro.ipynb\" target=\"_parent\"><img src=\"https://colab.research.google.com/assets/colab-badge.svg\" alt=\"Open In Colab\"/></a>"
      ]
    },
    {
      "cell_type": "code",
      "execution_count": null,
      "metadata": {
        "id": "fWNXdm-UZC_o"
      },
      "outputs": [],
      "source": [
        "import pandas as pd\n",
        "import numpy as np\n",
        "import matplotlib.pyplot as plt\n",
        "import scipy\n",
        "\n",
        "from scipy.stats import normaltest\n",
        "from scipy import stats\n",
        "from scipy.stats import shapiro\n",
        "from scipy.stats import skewtest"
      ]
    },
    {
      "cell_type": "code",
      "source": [
        "#data_set\n",
        "movie_path = 'https://raw.githubusercontent.com/PacktPublishing/Pandas-Cookbook/master/data/movie.csv'\n",
        "movie = pd.read_csv(movie_path)\n",
        "num_crt_reviews = movie['num_critic_for_reviews'].dropna()"
      ],
      "metadata": {
        "id": "4um8k2TyZ6ej"
      },
      "execution_count": null,
      "outputs": []
    },
    {
      "cell_type": "code",
      "source": [
        "# visuality\n",
        "plt.hist(num_crt_reviews)\n",
        "plt.title('histogram for series num_critic_for_reviews')\n",
        "plt.ylabel('Frequency')\n",
        "plt.xlabel('Reviews value')"
      ],
      "metadata": {
        "colab": {
          "base_uri": "https://localhost:8080/",
          "height": 313
        },
        "id": "bjZrFkgLbb0K",
        "outputId": "365a4d62-4946-471e-87c5-5c9a9171849c"
      },
      "execution_count": null,
      "outputs": [
        {
          "output_type": "execute_result",
          "data": {
            "text/plain": [
              "Text(0.5, 0, 'Reviews value')"
            ]
          },
          "metadata": {},
          "execution_count": 31
        },
        {
          "output_type": "display_data",
          "data": {
            "text/plain": [
              "<Figure size 432x288 with 1 Axes>"
            ],
            "image/png": "[encoded data removed]"
          },
          "metadata": {
            "needs_background": "light"
          }
        }
      ]
    },
    {
      "cell_type": "code",
      "source": [
        "#data\n",
        "alpha = 0.05\n"
      ],
      "metadata": {
        "id": "QYqVzqNPZNuR"
      },
      "execution_count": null,
      "outputs": []
    },
    {
      "cell_type": "code",
      "source": [
        "stat, probability = shapiro(num_crt_reviews)\n",
        "print('stat=%.3f, \\nprobability=%.f\\n' % (stat,probability))\n",
        "\n",
        "if probability > alpha:\n",
        "  print('Probability Gaussian')\n",
        "else:\n",
        "  print('Probability NOT Gaussian')"
      ],
      "metadata": {
        "colab": {
          "base_uri": "https://localhost:8080/"
        },
        "id": "tcuDX7XxZqeV",
        "outputId": "b27e4d1a-7a3a-4cf7-de81-047032aa3347"
      },
      "execution_count": null,
      "outputs": [
        {
          "output_type": "stream",
          "name": "stdout",
          "text": [
            "stat=0.870, \n",
            "probability=0\n",
            "\n",
            "Probability NOT Gaussian\n"
          ]
        }
      ]
    },
    {
      "cell_type": "code",
      "source": [
        "skewness, probability = skewtest(num_crt_reviews)\n",
        "print('stat=%.3f, \\nprobability=%.f\\n' % (stat,probability))\n",
        "\n",
        "if skewness < 0:\n",
        "  print('left side skewness')\n",
        "elif skewness > 0:\n",
        "  print('Right side skewness')\n",
        "else:\n",
        "    print('Probability Gaussian')\n",
        "print('\\n')\n",
        "\n",
        "plt.hist(num_crt_reviews)\n",
        "plt.title('histogram for series num_critic_for_reviews')\n",
        "plt.ylabel('Frequency')\n",
        "plt.xlabel('Reviews value')"
      ],
      "metadata": {
        "colab": {
          "base_uri": "https://localhost:8080/",
          "height": 423
        },
        "id": "wOa3D-B6e5kp",
        "outputId": "17127865-f298-45ee-f6a5-bd2d5dce7b6a"
      },
      "execution_count": null,
      "outputs": [
        {
          "output_type": "stream",
          "name": "stdout",
          "text": [
            "stat=0.870, \n",
            "probability=0\n",
            "\n",
            "Right side skewness\n",
            "\n",
            "\n"
          ]
        },
        {
          "output_type": "execute_result",
          "data": {
            "text/plain": [
              "Text(0.5, 0, 'Reviews value')"
            ]
          },
          "metadata": {},
          "execution_count": 38
        },
        {
          "output_type": "display_data",
          "data": {
            "text/plain": [
              "<Figure size 432x288 with 1 Axes>"
            ],
            "image/png": "[encoded data removed]"
          },
          "metadata": {
            "needs_background": "light"
          }
        }
      ]
    },
    {
      "cell_type": "code",
      "source": [],
      "metadata": {
        "id": "2dKoHjHLgsAD"
      },
      "execution_count": null,
      "outputs": []
    }
  ]
}