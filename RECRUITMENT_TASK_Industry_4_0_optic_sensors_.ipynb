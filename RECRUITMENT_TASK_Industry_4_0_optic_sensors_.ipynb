{
  "nbformat": 4,
  "nbformat_minor": 0,
  "metadata": {
    "colab": {
      "provenance": [],
      "authorship_tag": "ABX9TyMc7j5fhz99rb3DG8s7tYwu",
      "include_colab_link": true
    },
    "kernelspec": {
      "name": "python3",
      "display_name": "Python 3"
    },
    "language_info": {
      "name": "python"
    }
  },
  "cells": [
    {
      "cell_type": "markdown",
      "metadata": {
        "id": "view-in-github",
        "colab_type": "text"
      },
      "source": [
        "<a href=\"https://colab.research.google.com/github/kdambrowski/Data_science/blob/main/RECRUITMENT_TASK_Industry_4_0_optic_sensors_.ipynb\" target=\"_parent\"><img src=\"https://colab.research.google.com/assets/colab-badge.svg\" alt=\"Open In Colab\"/></a>"
      ]
    },
    {
      "cell_type": "markdown",
      "source": [
        "# Liblary"
      ],
      "metadata": {
        "id": "bD9Ll0Q8HwZF"
      }
    },
    {
      "cell_type": "code",
      "source": [
        "import os\n",
        "import shutil\n",
        "\n",
        "import numpy as np\n",
        "import pandas as pd\n",
        "import seaborn as sns\n",
        "\n",
        "from matplotlib import pyplot as plt\n",
        "from sklearn.cluster import KMeans\n",
        "from sklearn.metrics import roc_curve, auc\n",
        "from sklearn.preprocessing import label_binarize, OneHotEncoder\n",
        "from sklearn.metrics import roc_auc_score"
      ],
      "metadata": {
        "id": "oGULtYzDKHEd"
      },
      "execution_count": 31,
      "outputs": []
    },
    {
      "cell_type": "markdown",
      "source": [],
      "metadata": {
        "id": "kXHq3-kfK2Oq"
      }
    },
    {
      "cell_type": "markdown",
      "source": [
        "# Download datas"
      ],
      "metadata": {
        "id": "cHVdt_aFJxLM"
      }
    },
    {
      "cell_type": "code",
      "execution_count": 2,
      "metadata": {
        "colab": {
          "base_uri": "https://localhost:8080/"
        },
        "id": "2Rd7JDs0Hc6t",
        "outputId": "f329dac6-b212-493e-dfc7-dc44636780c2"
      },
      "outputs": [
        {
          "output_type": "stream",
          "name": "stdout",
          "text": [
            "Retrieving folder list\n",
            "Retrieving folder 1jZJ0Ez5vUDkgCzXYeZFaZr9lDEtwgynS sesion_01_20\n",
            "Processing file 1LM9mCShE-5yAtVYFmjvT8gqgnCr9s2rW sensor01_air.txt\n",
            "Processing file 17DfvpSqYgEA4R_DijRwWgS7XsUXZeYkS sensor01_izopropanol.txt\n",
            "Processing file 1TGUQyhJjhDx3qp05e4Zfv6Z20DLUur4y sensor01_water.txt\n",
            "Retrieving folder 16aAwB8IXUI7ZlEoxhSR08cVtGorzuC7B sesion_02_20\n",
            "Processing file 148xK-bCWO35H9wrOJQDu5dGsHOPWy68C sensor02_air.txt\n",
            "Processing file 1ZFFpmp86fOPdrt38jZm-a8LDFDcGBq4z sensor02_izopropanol.txt\n",
            "Processing file 1B-IEuA0PxgPtfbdqYZe3JrSMGKm2WN2u sensor02_water.txt\n",
            "Retrieving folder 1C83NkvGCkIH503gFHIH2o0BC2nOpLWj2 sesion_03_20\n",
            "Processing file 1kEZRMklztXEbu59E10p6m09lX7A8jCAO sensor03_air.txt\n",
            "Processing file 1ZVmOBZEMF48U0tE9E5iqN-aHtnKaBNch sensor03_izopropanol.txt\n",
            "Processing file 1Y5_mQESCc7hYiHG14HfBcvLNND5fZ_ao sensor03_water.txt\n",
            "Retrieving folder 1ogErYANmwr3ev0NHep5OEcj7eJRJU2O9 sesion_04_20\n",
            "Processing file 1aktTnDg_iuQbFkARU5eyRFwbtL93oZII sensor04_air.txt\n",
            "Processing file 1i8qdvwY-9wkiqMg-uBvQ70vj13EPgxrE sensor04_izopropanol.txt\n",
            "Processing file 1ol7hvVqQ9Vw2d5Qng3BLa7rVtarR6I9i sensor04_water.txt\n",
            "Retrieving folder 1UkED5LVMzeDjC_zyWoFZSTtvKDYcoDvW sesion_05_20\n",
            "Processing file 1RIgK2tfveoX4fiIUTsF5rToBeVC8sQA7 sensor05_air.txt\n",
            "Processing file 1XtQKxuD8Vy5ih9yFvqlvQKnxzd-x_HH5 sensor05_izopropanol.txt\n",
            "Processing file 1k1WAB_tWNU-ScGE-iaYUIMK_ekFmCFUG sensor05_water.txt\n",
            "Retrieving folder 13e5EB9brwzpWCF2poicwRe4B_N4W3_gs sesion_06_20\n",
            "Processing file 1_XWeB9WQpN8FLlzS7QvYu3adwrRGTDYd sensor06_air.txt\n",
            "Processing file 1ooatrDVRE9qS2WsAdhwrWpvBJQkeU3iK sensor06_izopropanol.txt\n",
            "Processing file 10dpvNM_5t0ViXl1K3q4jd_Ys3f2m3sgX sensor06_water.txt\n",
            "Retrieving folder 1N2n5kcPw1cvEuykYdBegZGp09p5r_oYS sesion_07_20\n",
            "Processing file 1U9Wa9EsBOGtA55McyN3fREOQJl9D8-E_ sensor07_air.txt\n",
            "Processing file 1xJg4Bs-LHFJ59B8mI7sEXbIbvWXngxX5 sensor07_izopropanol.txt\n",
            "Processing file 1AbTvzIKv2xeuDrZaRPPJYU2O4-A4rhWs sensor07_water.txt\n",
            "Retrieving folder 1yqeyOrB5XDcKn4ZS2REKL5vLmh7vxB9p sesion_08_20\n",
            "Processing file 1KS8FooVgb2dOHho319g1FR-vSsSbyrn3 sensor08_air.txt\n",
            "Processing file 1nvXy9rD3HyJWg5D6dIsfuxjKSmkMlWXJ sensor08_izopropanol.txt\n",
            "Processing file 1CBWMKS2ZGZ9TiKTAnQPDhnDTRRY1EZbD sensor08_water.txt\n",
            "Retrieving folder 1CXgZHTrj_14sI2xRJojdwEk9iYrt-Qiu sesion_09_20\n",
            "Processing file 1PhTyHA1gXR1rSvSO6_6Px_XBYWpCe7Un sensor09_air.txt\n",
            "Processing file 1edNOlcwtGuGIlAbOjE_9jVOD0g_eWrMu sensor09_izopropanol.txt\n",
            "Processing file 1J8M5jq7OpBMEIKQIN0icaZF5866ZN1Ec sensor09_water.txt\n",
            "Retrieving folder 17PJk4FEV_D0VuqrVjAF7E5xGhyczvEko sesion_10_20\n",
            "Processing file 1ZggdSRJNNKT09D-FNzfKX8LQZED37GX2 sensor10_air.txt\n",
            "Processing file 1Q4b-yxLughokuzURH8zVoGUvzerPToqU sensor10_izopropanol.txt\n",
            "Processing file 13C3p1sI__V2bm6gM0tk8fRwuaNOHZ4k1 sensor10_water.txt\n",
            "Retrieving folder list completed\n",
            "Building directory structure\n",
            "Building directory structure completed\n",
            "Downloading...\n",
            "From: https://drive.google.com/uc?id=1LM9mCShE-5yAtVYFmjvT8gqgnCr9s2rW\n",
            "To: /content/Dataset/sesion_01_20/sensor01_air.txt\n",
            "100% 54.9k/54.9k [00:00<00:00, 48.2MB/s]\n",
            "Downloading...\n",
            "From: https://drive.google.com/uc?id=17DfvpSqYgEA4R_DijRwWgS7XsUXZeYkS\n",
            "To: /content/Dataset/sesion_01_20/sensor01_izopropanol.txt\n",
            "100% 55.4k/55.4k [00:00<00:00, 49.4MB/s]\n",
            "Downloading...\n",
            "From: https://drive.google.com/uc?id=1TGUQyhJjhDx3qp05e4Zfv6Z20DLUur4y\n",
            "To: /content/Dataset/sesion_01_20/sensor01_water.txt\n",
            "100% 55.4k/55.4k [00:00<00:00, 47.5MB/s]\n",
            "Downloading...\n",
            "From: https://drive.google.com/uc?id=148xK-bCWO35H9wrOJQDu5dGsHOPWy68C\n",
            "To: /content/Dataset/sesion_02_20/sensor02_air.txt\n",
            "100% 54.9k/54.9k [00:00<00:00, 42.8MB/s]\n",
            "Downloading...\n",
            "From: https://drive.google.com/uc?id=1ZFFpmp86fOPdrt38jZm-a8LDFDcGBq4z\n",
            "To: /content/Dataset/sesion_02_20/sensor02_izopropanol.txt\n",
            "100% 55.3k/55.3k [00:00<00:00, 67.1MB/s]\n",
            "Downloading...\n",
            "From: https://drive.google.com/uc?id=1B-IEuA0PxgPtfbdqYZe3JrSMGKm2WN2u\n",
            "To: /content/Dataset/sesion_02_20/sensor02_water.txt\n",
            "100% 55.3k/55.3k [00:00<00:00, 29.9MB/s]\n",
            "Downloading...\n",
            "From: https://drive.google.com/uc?id=1kEZRMklztXEbu59E10p6m09lX7A8jCAO\n",
            "To: /content/Dataset/sesion_03_20/sensor03_air.txt\n",
            "100% 55.3k/55.3k [00:00<00:00, 72.7MB/s]\n",
            "Downloading...\n",
            "From: https://drive.google.com/uc?id=1ZVmOBZEMF48U0tE9E5iqN-aHtnKaBNch\n",
            "To: /content/Dataset/sesion_03_20/sensor03_izopropanol.txt\n",
            "100% 55.4k/55.4k [00:00<00:00, 56.2MB/s]\n",
            "Downloading...\n",
            "From: https://drive.google.com/uc?id=1Y5_mQESCc7hYiHG14HfBcvLNND5fZ_ao\n",
            "To: /content/Dataset/sesion_03_20/sensor03_water.txt\n",
            "100% 55.4k/55.4k [00:00<00:00, 63.9MB/s]\n",
            "Downloading...\n",
            "From: https://drive.google.com/uc?id=1aktTnDg_iuQbFkARU5eyRFwbtL93oZII\n",
            "To: /content/Dataset/sesion_04_20/sensor04_air.txt\n",
            "100% 55.4k/55.4k [00:00<00:00, 70.8MB/s]\n",
            "Downloading...\n",
            "From: https://drive.google.com/uc?id=1i8qdvwY-9wkiqMg-uBvQ70vj13EPgxrE\n",
            "To: /content/Dataset/sesion_04_20/sensor04_izopropanol.txt\n",
            "100% 55.3k/55.3k [00:00<00:00, 64.8MB/s]\n",
            "Downloading...\n",
            "From: https://drive.google.com/uc?id=1ol7hvVqQ9Vw2d5Qng3BLa7rVtarR6I9i\n",
            "To: /content/Dataset/sesion_04_20/sensor04_water.txt\n",
            "100% 55.4k/55.4k [00:00<00:00, 71.1MB/s]\n",
            "Downloading...\n",
            "From: https://drive.google.com/uc?id=1RIgK2tfveoX4fiIUTsF5rToBeVC8sQA7\n",
            "To: /content/Dataset/sesion_05_20/sensor05_air.txt\n",
            "100% 55.0k/55.0k [00:00<00:00, 44.5MB/s]\n",
            "Downloading...\n",
            "From: https://drive.google.com/uc?id=1XtQKxuD8Vy5ih9yFvqlvQKnxzd-x_HH5\n",
            "To: /content/Dataset/sesion_05_20/sensor05_izopropanol.txt\n",
            "100% 55.2k/55.2k [00:00<00:00, 26.0MB/s]\n",
            "Downloading...\n",
            "From: https://drive.google.com/uc?id=1k1WAB_tWNU-ScGE-iaYUIMK_ekFmCFUG\n",
            "To: /content/Dataset/sesion_05_20/sensor05_water.txt\n",
            "100% 55.2k/55.2k [00:00<00:00, 61.0MB/s]\n",
            "Downloading...\n",
            "From: https://drive.google.com/uc?id=1_XWeB9WQpN8FLlzS7QvYu3adwrRGTDYd\n",
            "To: /content/Dataset/sesion_06_20/sensor06_air.txt\n",
            "100% 55.1k/55.1k [00:00<00:00, 62.3MB/s]\n",
            "Downloading...\n",
            "From: https://drive.google.com/uc?id=1ooatrDVRE9qS2WsAdhwrWpvBJQkeU3iK\n",
            "To: /content/Dataset/sesion_06_20/sensor06_izopropanol.txt\n",
            "100% 55.2k/55.2k [00:00<00:00, 58.2MB/s]\n",
            "Downloading...\n",
            "From: https://drive.google.com/uc?id=10dpvNM_5t0ViXl1K3q4jd_Ys3f2m3sgX\n",
            "To: /content/Dataset/sesion_06_20/sensor06_water.txt\n",
            "100% 55.2k/55.2k [00:00<00:00, 6.47MB/s]\n",
            "Downloading...\n",
            "From: https://drive.google.com/uc?id=1U9Wa9EsBOGtA55McyN3fREOQJl9D8-E_\n",
            "To: /content/Dataset/sesion_07_20/sensor07_air.txt\n",
            "100% 55.1k/55.1k [00:00<00:00, 56.8MB/s]\n",
            "Downloading...\n",
            "From: https://drive.google.com/uc?id=1xJg4Bs-LHFJ59B8mI7sEXbIbvWXngxX5\n",
            "To: /content/Dataset/sesion_07_20/sensor07_izopropanol.txt\n",
            "100% 55.3k/55.3k [00:00<00:00, 60.5MB/s]\n",
            "Downloading...\n",
            "From: https://drive.google.com/uc?id=1AbTvzIKv2xeuDrZaRPPJYU2O4-A4rhWs\n",
            "To: /content/Dataset/sesion_07_20/sensor07_water.txt\n",
            "100% 55.4k/55.4k [00:00<00:00, 20.9MB/s]\n",
            "Downloading...\n",
            "From: https://drive.google.com/uc?id=1KS8FooVgb2dOHho319g1FR-vSsSbyrn3\n",
            "To: /content/Dataset/sesion_08_20/sensor08_air.txt\n",
            "100% 54.9k/54.9k [00:00<00:00, 28.7MB/s]\n",
            "Downloading...\n",
            "From: https://drive.google.com/uc?id=1nvXy9rD3HyJWg5D6dIsfuxjKSmkMlWXJ\n",
            "To: /content/Dataset/sesion_08_20/sensor08_izopropanol.txt\n",
            "100% 55.3k/55.3k [00:00<00:00, 22.9MB/s]\n",
            "Downloading...\n",
            "From: https://drive.google.com/uc?id=1CBWMKS2ZGZ9TiKTAnQPDhnDTRRY1EZbD\n",
            "To: /content/Dataset/sesion_08_20/sensor08_water.txt\n",
            "100% 55.3k/55.3k [00:00<00:00, 64.6MB/s]\n",
            "Downloading...\n",
            "From: https://drive.google.com/uc?id=1PhTyHA1gXR1rSvSO6_6Px_XBYWpCe7Un\n",
            "To: /content/Dataset/sesion_09_20/sensor09_air.txt\n",
            "100% 55.2k/55.2k [00:00<00:00, 5.68MB/s]\n",
            "Downloading...\n",
            "From: https://drive.google.com/uc?id=1edNOlcwtGuGIlAbOjE_9jVOD0g_eWrMu\n",
            "To: /content/Dataset/sesion_09_20/sensor09_izopropanol.txt\n",
            "100% 55.3k/55.3k [00:00<00:00, 29.4MB/s]\n",
            "Downloading...\n",
            "From: https://drive.google.com/uc?id=1J8M5jq7OpBMEIKQIN0icaZF5866ZN1Ec\n",
            "To: /content/Dataset/sesion_09_20/sensor09_water.txt\n",
            "100% 55.3k/55.3k [00:00<00:00, 37.7MB/s]\n",
            "Downloading...\n",
            "From: https://drive.google.com/uc?id=1ZggdSRJNNKT09D-FNzfKX8LQZED37GX2\n",
            "To: /content/Dataset/sesion_10_20/sensor10_air.txt\n",
            "100% 55.0k/55.0k [00:00<00:00, 61.2MB/s]\n",
            "Downloading...\n",
            "From: https://drive.google.com/uc?id=1Q4b-yxLughokuzURH8zVoGUvzerPToqU\n",
            "To: /content/Dataset/sesion_10_20/sensor10_izopropanol.txt\n",
            "100% 55.3k/55.3k [00:00<00:00, 37.8MB/s]\n",
            "Downloading...\n",
            "From: https://drive.google.com/uc?id=13C3p1sI__V2bm6gM0tk8fRwuaNOHZ4k1\n",
            "To: /content/Dataset/sesion_10_20/sensor10_water.txt\n",
            "100% 55.3k/55.3k [00:00<00:00, 40.7MB/s]\n",
            "Download completed\n"
          ]
        }
      ],
      "source": [
        "!gdown --folder https://drive.google.com/drive/folders/1ha7P4Mwp6_XYnUHs20460CbBC4zwNvf9"
      ]
    },
    {
      "cell_type": "code",
      "source": [],
      "metadata": {
        "id": "Om3CmLbyJrvH"
      },
      "execution_count": 2,
      "outputs": []
    },
    {
      "cell_type": "markdown",
      "source": [
        "#defining functions"
      ],
      "metadata": {
        "id": "z4-dj0pQKZwd"
      }
    },
    {
      "cell_type": "code",
      "source": [
        "def jpg_file_renamed(folder_path, prefix, sufix_counter=False):\n",
        "  \"\"\"Changing name of files in indicated folder, add to regular name prefix\n",
        "  and is possibility to add sufix_counter on the end of regular name.\n",
        "  Sufix starts with 0 value\n",
        "  \"\"\"\n",
        "  prefix_str = str(prefix)\n",
        "  additional_slash = '/'\n",
        "  folder_path_slash = folder_path + additional_slash\n",
        "  folder_elements = os.listdir(folder_path_slash)\n",
        "  if sufix_counter:\n",
        "    sufix_counter = 0\n",
        "    for file_name in folder_elements:\n",
        "      source = folder_path_slash + file_name\n",
        "      destination = folder_path_slash + prefix+\"_\" + file_name + str(sufix_counter)\n",
        "      #result = ....ColoredDiceDataset/1/prefix000108sufix.jpg\n",
        "      os.rename(source, destination)\n",
        "      sufix_counter +=1\n",
        "  else:          \n",
        "    for file_name in folder_elements:\n",
        "      source = folder_path_slash + file_name\n",
        "      destination = folder_path_slash + prefix +\"_\" + file_name\n",
        "      #result = ....ColoredDiceDataset/1/1000108.jpg\n",
        "      os.rename(source, destination)\n",
        "  previous_example_2_eg = folder_elements[:2]\n",
        "  results_2_eg= os.listdir(folder_path)[:2]\n",
        "  return print('All files renamed successfully in indicated path',\n",
        "               f'\\nprevious name: {previous_example_2_eg}',\n",
        "               f'\\ncurrent name:{results_2_eg}\\n') "
      ],
      "metadata": {
        "id": "qyq36PJKLpVZ"
      },
      "execution_count": 3,
      "outputs": []
    },
    {
      "cell_type": "markdown",
      "source": [
        "# Preprocessing"
      ],
      "metadata": {
        "id": "pYbfDVy9KfgK"
      }
    },
    {
      "cell_type": "markdown",
      "source": [
        "Settings and variables\n"
      ],
      "metadata": {
        "id": "0DyoRh_XL_c_"
      }
    },
    {
      "cell_type": "code",
      "source": [
        "upper_path_of_folder = '/content/Dataset'\n",
        "path_air_result_folder ='/content/air_result_folder/'\n",
        "path_isopropanol_result_folder ='/content/isopropanol_result_folder/'\n",
        "path_water_result_folder ='/content/water_result_folder/'\n"
      ],
      "metadata": {
        "id": "enz-Lo0RMSK9"
      },
      "execution_count": 4,
      "outputs": []
    },
    {
      "cell_type": "code",
      "source": [
        "# data_path = upper_path_of_folder\n",
        "# data_dir = os.listdir(data_path)\n",
        "# for fits_dir in data_dir:\n",
        "#     fits_path = data_path + \"/\"\n",
        "#     print(fits_path)\n",
        "#     for second_dir in os.listdir(fits_path):\n",
        "#       second_path = second_dir\n",
        "#       print(second_path)\n",
        "#       for file in os.listdir(second_path):\n",
        "#         print(file)\n",
        "# #if 'air' in file.split(\"_\")[0][-3:]:\n",
        "# #shutil.copy(fits_path + \"/\" + file, path_air_result_folder)"
      ],
      "metadata": {
        "id": "B09alFdzPLn6"
      },
      "execution_count": 5,
      "outputs": []
    },
    {
      "cell_type": "code",
      "source": [
        "os.mkdir(path_air_result_folder)\n",
        "os.mkdir(path_isopropanol_result_folder)\n",
        "os.mkdir(path_water_result_folder)"
      ],
      "metadata": {
        "id": "sCFLE63MeM7P"
      },
      "execution_count": 6,
      "outputs": []
    },
    {
      "cell_type": "code",
      "source": [
        "for sesion_dir in os.listdir(upper_path_of_folder):\n",
        "  sesion_path =upper_path_of_folder + '/' + sesion_dir + '/'\n",
        "  # print(sesion_path)\n",
        "  # print()\n",
        "  for files in os.listdir(sesion_path):\n",
        "    file_name_split = files.split(\"_\")\n",
        "    testing_medium = file_name_split[1].split('.')\n",
        "    medium_name = testing_medium[0]\n",
        "    # print(medium_name,files, sep='+++\\n')\n",
        "    if 'air' in medium_name:\n",
        "      # print(files)\n",
        "      shutil.copy(sesion_path + files, path_air_result_folder)\n",
        "    if 'izopropanol' in medium_name:\n",
        "      # print(files)\n",
        "      shutil.copy(sesion_path + files, path_isopropanol_result_folder)\n",
        "    if 'water' in medium_name:\n",
        "      # print(files)\n",
        "      shutil.copy(sesion_path + files, path_water_result_folder)\n",
        "\n"
      ],
      "metadata": {
        "id": "PuJ6rGsgT0zX"
      },
      "execution_count": 33,
      "outputs": []
    },
    {
      "cell_type": "code",
      "source": [
        "# datas_air_list = []\n",
        "fig, ax = plt.subplots()\n",
        "for f in os.listdir(path_air_result_folder):\n",
        "    direct_file_path = path_air_result_folder + f\n",
        "    df = pd.read_csv(direct_file_path,\n",
        "            header=0,\n",
        "            names = np.array(['signal wavelength [nm]','signal amplitude [dB]']\n",
        "                             ))\n",
        "    ax.plot(df['signal wavelength [nm]'],df['signal amplitude [dB]'], label=f)\n",
        "plt.title('air_resul', fontsize=22)\n",
        "plt.xlabel('signal wavelength [nm]')\n",
        "plt.ylabel('signal amplitude [dB]')\n",
        "plt.legend()\n",
        "plt.show()"
      ],
      "metadata": {
        "colab": {
          "base_uri": "https://localhost:8080/",
          "height": 301
        },
        "id": "XatzbxxMpsV2",
        "outputId": "4814e4d5-4288-4a3f-8636-7f48c9b79f27"
      },
      "execution_count": 34,
      "outputs": [
        {
          "output_type": "display_data",
          "data": {
            "text/plain": [
              "<Figure size 432x288 with 1 Axes>"
            ],
            "image/png": "[encoded data removed]"
          },
          "metadata": {
            "needs_background": "light"
          }
        }
      ]
    },
    {
      "cell_type": "code",
      "source": [
        "# datas_air_list = []\n",
        "fig, ax = plt.subplots()\n",
        "for f in os.listdir(path_isopropanol_result_folder):\n",
        "    direct_file_path = path_isopropanol_result_folder + f\n",
        "    df = pd.read_csv(direct_file_path,\n",
        "            header=0,\n",
        "            names = np.array(['signal wavelength [nm]','signal amplitude [dB]']\n",
        "                             ))\n",
        "    ax.plot(df['signal wavelength [nm]'],df['signal amplitude [dB]'],label=f)\n",
        "\n",
        "plt.title('isopropanol_result', fontsize=22)\n",
        "plt.xlabel('signal wavelength [nm]')\n",
        "plt.ylabel('signal amplitude [dB]')\n",
        "plt.legend()\n",
        "plt.show()"
      ],
      "metadata": {
        "colab": {
          "base_uri": "https://localhost:8080/",
          "height": 301
        },
        "id": "RtS4UGIUzuEd",
        "outputId": "48cab4e8-707e-4b2a-d101-81f0af42c962"
      },
      "execution_count": 35,
      "outputs": [
        {
          "output_type": "display_data",
          "data": {
            "text/plain": [
              "<Figure size 432x288 with 1 Axes>"
            ],
            "image/png": "[encoded data removed]"
          },
          "metadata": {
            "needs_background": "light"
          }
        }
      ]
    },
    {
      "cell_type": "code",
      "source": [
        "# datas_air_list = []\n",
        "fig, ax = plt.subplots()\n",
        "for f in os.listdir(path_water_result_folder):\n",
        "    direct_file_path = path_water_result_folder + f\n",
        "    df = pd.read_csv(direct_file_path,\n",
        "            header=0,\n",
        "            names = np.array(['signal wavelength [nm]','signal amplitude [dB]']\n",
        "                             ))\n",
        "    ax.plot(df['signal wavelength [nm]'],df['signal amplitude [dB]'], label = f)\n",
        "plt.title('water_result', fontsize=22)\n",
        "plt.xlabel('signal wavelength [nm]')\n",
        "plt.ylabel('signal amplitude [dB]')\n",
        "plt.legend()\n",
        "plt.show()"
      ],
      "metadata": {
        "colab": {
          "base_uri": "https://localhost:8080/",
          "height": 301
        },
        "id": "UfLLbg35z-q7",
        "outputId": "3665a877-ee20-40d7-a8ce-b97ab67fe2a2"
      },
      "execution_count": 36,
      "outputs": [
        {
          "output_type": "display_data",
          "data": {
            "text/plain": [
              "<Figure size 432x288 with 1 Axes>"
            ],
            "image/png": "[encoded data removed]"
          },
          "metadata": {
            "needs_background": "light"
          }
        }
      ]
    },
    {
      "cell_type": "code",
      "source": [
        "for f in os.listdir(path_water_result_folder):\n",
        "    direct_file_path = path_water_result_folder + f\n",
        "    df = pd.read_csv(direct_file_path,\n",
        "            header=0,\n",
        "            names = np.array(['signal wavelength [nm]','signal amplitude [dB]']))\n",
        "    print(df.describe())\n",
        "    "
      ],
      "metadata": {
        "colab": {
          "base_uri": "https://localhost:8080/"
        },
        "id": "oO4ggHq14uuE",
        "outputId": "e9510d1d-cae5-4878-9984-031dd38eea46"
      },
      "execution_count": 37,
      "outputs": [
        {
          "output_type": "stream",
          "name": "stdout",
          "text": [
            "       signal wavelength [nm]  signal amplitude [dB]\n",
            "count            3.000000e+03            3000.000000\n",
            "mean             1.500050e-06              -2.742071\n",
            "std              8.661697e-08               6.383997\n",
            "min              1.350100e-06             -14.486000\n",
            "25%              1.425075e-06              -7.710775\n",
            "50%              1.500050e-06              -2.790100\n",
            "75%              1.575025e-06               3.161650\n",
            "max              1.650000e-06               7.374600\n",
            "       signal wavelength [nm]  signal amplitude [dB]\n",
            "count            3.000000e+03            3000.000000\n",
            "mean             1.500050e-06              -1.512439\n",
            "std              8.661697e-08               6.822813\n",
            "min              1.350100e-06             -14.003000\n",
            "25%              1.425075e-06              -6.861600\n",
            "50%              1.500050e-06              -1.868100\n",
            "75%              1.575025e-06               4.876350\n",
            "max              1.650000e-06               8.881000\n",
            "       signal wavelength [nm]  signal amplitude [dB]\n",
            "count            3.000000e+03            3000.000000\n",
            "mean             1.500050e-06              -1.595073\n",
            "std              8.661697e-08               6.921947\n",
            "min              1.350100e-06             -14.621000\n",
            "25%              1.425075e-06              -6.918025\n",
            "50%              1.500050e-06              -1.800200\n",
            "75%              1.575025e-06               4.843975\n",
            "max              1.650000e-06               8.850100\n",
            "       signal wavelength [nm]  signal amplitude [dB]\n",
            "count            3.000000e+03            3000.000000\n",
            "mean             1.500050e-06              -2.012819\n",
            "std              8.661697e-08               6.506085\n",
            "min              1.350100e-06             -14.073000\n",
            "25%              1.425075e-06              -7.017325\n",
            "50%              1.500050e-06              -2.042150\n",
            "75%              1.575025e-06               3.994625\n",
            "max              1.650000e-06               8.217700\n",
            "       signal wavelength [nm]  signal amplitude [dB]\n",
            "count            3.000000e+03            3000.000000\n",
            "mean             1.500050e-06              -0.923989\n",
            "std              8.661697e-08               6.501037\n",
            "min              1.350100e-06             -12.698000\n",
            "25%              1.425075e-06              -5.990050\n",
            "50%              1.500050e-06              -1.102850\n",
            "75%              1.575025e-06               5.149550\n",
            "max              1.650000e-06               9.284900\n",
            "       signal wavelength [nm]  signal amplitude [dB]\n",
            "count            3.000000e+03            3000.000000\n",
            "mean             1.500050e-06              -2.676408\n",
            "std              8.661697e-08               6.616723\n",
            "min              1.350100e-06             -14.673000\n",
            "25%              1.425075e-06              -7.921800\n",
            "50%              1.500050e-06              -3.013850\n",
            "75%              1.575025e-06               3.534775\n",
            "max              1.650000e-06               7.498800\n",
            "       signal wavelength [nm]  signal amplitude [dB]\n",
            "count            3.000000e+03            3000.000000\n",
            "mean             1.500050e-06              -1.404568\n",
            "std              8.661697e-08               6.365921\n",
            "min              1.350100e-06             -13.115000\n",
            "25%              1.425075e-06              -6.288850\n",
            "50%              1.500050e-06              -1.403000\n",
            "75%              1.575025e-06               4.476800\n",
            "max              1.650000e-06               8.561300\n",
            "       signal wavelength [nm]  signal amplitude [dB]\n",
            "count            3.000000e+03            3000.000000\n",
            "mean             1.500050e-06              -1.466069\n",
            "std              8.661697e-08               6.402215\n",
            "min              1.350100e-06             -13.008000\n",
            "25%              1.425075e-06              -6.470000\n",
            "50%              1.500050e-06              -1.551900\n",
            "75%              1.575025e-06               4.515225\n",
            "max              1.650000e-06               8.532700\n",
            "       signal wavelength [nm]  signal amplitude [dB]\n",
            "count            3.000000e+03            3000.000000\n",
            "mean             1.500050e-06              -0.960230\n",
            "std              8.661697e-08               6.501385\n",
            "min              1.350100e-06             -12.838000\n",
            "25%              1.425075e-06              -6.036525\n",
            "50%              1.500050e-06              -1.158150\n",
            "75%              1.575025e-06               5.114925\n",
            "max              1.650000e-06               9.210800\n",
            "       signal wavelength [nm]  signal amplitude [dB]\n",
            "count            3.000000e+03            3000.000000\n",
            "mean             1.500050e-06              -1.916953\n",
            "std              8.661697e-08               6.280604\n",
            "min              1.350100e-06             -13.387000\n",
            "25%              1.425075e-06              -6.880600\n",
            "50%              1.500050e-06              -2.183050\n",
            "75%              1.575025e-06               3.931700\n",
            "max              1.650000e-06               8.087200\n"
          ]
        }
      ]
    },
    {
      "cell_type": "code",
      "source": [],
      "metadata": {
        "id": "Uots0lFs4Aor"
      },
      "execution_count": 37,
      "outputs": []
    },
    {
      "cell_type": "code",
      "source": [
        "water_frames = []\n",
        "for f in os.listdir(path_water_result_folder):\n",
        "    direct_file_path = path_water_result_folder + f\n",
        "    df = pd.read_csv(direct_file_path,\n",
        "            header=0,\n",
        "            names = np.array(['water_frames signal wavelength [nm]','water_frames signal amplitude [dB]']))\n",
        "    df['sensor_no'] = f.split('_')[0]\n",
        "    df['water_frames signal wavelength [nm]']=df['water_frames signal wavelength [nm]']*10**9\n",
        "    water_frames.append(df)\n",
        "\n",
        "combine_dfs_water_result = pd.concat(water_frames)\n",
        "combine_dfs_water_result.value_counts('sensor_no')"
      ],
      "metadata": {
        "colab": {
          "base_uri": "https://localhost:8080/"
        },
        "id": "2DW4vxi18gU7",
        "outputId": "11fb2921-7d95-4431-8810-41d45ad0b154"
      },
      "execution_count": 38,
      "outputs": [
        {
          "output_type": "execute_result",
          "data": {
            "text/plain": [
              "sensor_no\n",
              "sensor01    3000\n",
              "sensor02    3000\n",
              "sensor03    3000\n",
              "sensor04    3000\n",
              "sensor05    3000\n",
              "sensor06    3000\n",
              "sensor07    3000\n",
              "sensor08    3000\n",
              "sensor09    3000\n",
              "sensor10    3000\n",
              "dtype: int64"
            ]
          },
          "metadata": {},
          "execution_count": 38
        }
      ]
    },
    {
      "cell_type": "code",
      "source": [
        "izo_frames = []\n",
        "for f in os.listdir(path_isopropanol_result_folder):\n",
        "    direct_file_path = path_isopropanol_result_folder + f\n",
        "    df = pd.read_csv(direct_file_path,\n",
        "            header=0,\n",
        "            names = np.array(['izo_frames signal wavelength  [nm]','izo_frames signal amplitude [dB]']))\n",
        "    df['sensor_no'] = f.split('_')[0]\n",
        "    df['izo_frames signal wavelength  [nm]']=df['izo_frames signal wavelength  [nm]']*10**9\n",
        "    izo_frames.append(df)\n",
        "\n",
        "combine_dfs_isopropanol_result = pd.concat(izo_frames)\n",
        "combine_dfs_isopropanol_result.value_counts('sensor_no')"
      ],
      "metadata": {
        "colab": {
          "base_uri": "https://localhost:8080/"
        },
        "id": "qspTbPsLB7Xe",
        "outputId": "2e35a35e-233f-4573-9b74-da288e9ee805"
      },
      "execution_count": 39,
      "outputs": [
        {
          "output_type": "execute_result",
          "data": {
            "text/plain": [
              "sensor_no\n",
              "sensor01    3000\n",
              "sensor02    3000\n",
              "sensor03    3000\n",
              "sensor04    3000\n",
              "sensor05    3000\n",
              "sensor06    3000\n",
              "sensor07    3000\n",
              "sensor08    3000\n",
              "sensor09    3000\n",
              "sensor10    3000\n",
              "dtype: int64"
            ]
          },
          "metadata": {},
          "execution_count": 39
        }
      ]
    },
    {
      "cell_type": "code",
      "source": [
        "air_frames = []\n",
        "for f in os.listdir(path_air_result_folder):\n",
        "    direct_file_path = path_air_result_folder + f\n",
        "    df = pd.read_csv(direct_file_path,\n",
        "            header=0,\n",
        "            names = np.array(['air_frames signal wavelength [nm]','air_frames signal amplitude [dB]']))\n",
        "    df['sensor_no'] = f.split('_')[0]\n",
        "    df['air_frames signal wavelength [nm]']=df['air_frames signal wavelength [nm]']*10**9\n",
        "    air_frames.append(df)\n",
        "\n",
        "combine_dfs_air_result = pd.concat(air_frames)\n",
        "combine_dfs_air_result.value_counts('sensor_no')"
      ],
      "metadata": {
        "colab": {
          "base_uri": "https://localhost:8080/"
        },
        "id": "CRpZ3jH9CcRZ",
        "outputId": "b9e2efad-3ff4-4f36-a4a1-145bef14fc9b"
      },
      "execution_count": 40,
      "outputs": [
        {
          "output_type": "execute_result",
          "data": {
            "text/plain": [
              "sensor_no\n",
              "sensor01    3000\n",
              "sensor02    3000\n",
              "sensor03    3000\n",
              "sensor04    3000\n",
              "sensor05    3000\n",
              "sensor06    3000\n",
              "sensor07    3000\n",
              "sensor08    3000\n",
              "sensor09    3000\n",
              "sensor10    3000\n",
              "dtype: int64"
            ]
          },
          "metadata": {},
          "execution_count": 40
        }
      ]
    },
    {
      "cell_type": "code",
      "source": [
        "combine_dfs_air_result.std()"
      ],
      "metadata": {
        "colab": {
          "base_uri": "https://localhost:8080/"
        },
        "id": "R4hS4XT2DS8f",
        "outputId": "bfcf0f3a-4217-4c3c-f09f-1c0961910afe"
      },
      "execution_count": 41,
      "outputs": [
        {
          "output_type": "stream",
          "name": "stderr",
          "text": [
            "<ipython-input-41-9034224be54e>:1: FutureWarning: Dropping of nuisance columns in DataFrame reductions (with 'numeric_only=None') is deprecated; in a future version this will raise TypeError.  Select only valid columns before calling the reduction.\n",
            "  combine_dfs_air_result.std()\n"
          ]
        },
        {
          "output_type": "execute_result",
          "data": {
            "text/plain": [
              "air_frames signal wavelength [nm]    86.603979\n",
              "air_frames signal amplitude [dB]      4.902206\n",
              "dtype: float64"
            ]
          },
          "metadata": {},
          "execution_count": 41
        }
      ]
    },
    {
      "cell_type": "code",
      "source": [
        "group_sensor_by_min_dB = combine_dfs_air_result.groupby('sensor_no').agg({'air_frames signal wavelength [nm]':'min'})"
      ],
      "metadata": {
        "id": "9Tedss5tDupT"
      },
      "execution_count": 42,
      "outputs": []
    },
    {
      "cell_type": "code",
      "source": [
        "combine_dfs_isopropanol_result[combine_dfs_isopropanol_result.columns]"
      ],
      "metadata": {
        "colab": {
          "base_uri": "https://localhost:8080/",
          "height": 424
        },
        "id": "ORm1E1gjeHNj",
        "outputId": "e2f8f108-eac3-40ab-eb3f-ae7e514dd901"
      },
      "execution_count": 43,
      "outputs": [
        {
          "output_type": "execute_result",
          "data": {
            "text/plain": [
              "      izo_frames signal wavelength  [nm]  izo_frames signal amplitude [dB]  \\\n",
              "0                                 1350.1                           8.32460   \n",
              "1                                 1350.2                           8.29750   \n",
              "2                                 1350.3                           8.33000   \n",
              "3                                 1350.4                           8.26280   \n",
              "4                                 1350.5                           8.28260   \n",
              "...                                  ...                               ...   \n",
              "2995                              1649.6                          -0.61478   \n",
              "2996                              1649.7                          -0.53629   \n",
              "2997                              1649.8                          -0.81838   \n",
              "2998                              1649.9                          -0.57202   \n",
              "2999                              1650.0                          -0.42871   \n",
              "\n",
              "     sensor_no  \n",
              "0     sensor07  \n",
              "1     sensor07  \n",
              "2     sensor07  \n",
              "3     sensor07  \n",
              "4     sensor07  \n",
              "...        ...  \n",
              "2995  sensor10  \n",
              "2996  sensor10  \n",
              "2997  sensor10  \n",
              "2998  sensor10  \n",
              "2999  sensor10  \n",
              "\n",
              "[30000 rows x 3 columns]"
            ],
            "text/html": [
              "\n",
              "  <div id=\"df-5f13935d-2445-48bb-9bf2-34cbad98f4df\">\n",
              "    <div class=\"colab-df-container\">\n",
              "      <div>\n",
              "<style scoped>\n",
              "    .dataframe tbody tr th:only-of-type {\n",
              "        vertical-align: middle;\n",
              "    }\n",
              "\n",
              "    .dataframe tbody tr th {\n",
              "        vertical-align: top;\n",
              "    }\n",
              "\n",
              "    .dataframe thead th {\n",
              "        text-align: right;\n",
              "    }\n",
              "</style>\n",
              "<table border=\"1\" class=\"dataframe\">\n",
              "  <thead>\n",
              "    <tr style=\"text-align: right;\">\n",
              "      <th></th>\n",
              "      <th>izo_frames signal wavelength  [nm]</th>\n",
              "      <th>izo_frames signal amplitude [dB]</th>\n",
              "      <th>sensor_no</th>\n",
              "    </tr>\n",
              "  </thead>\n",
              "  <tbody>\n",
              "    <tr>\n",
              "      <th>0</th>\n",
              "      <td>1350.1</td>\n",
              "      <td>8.32460</td>\n",
              "      <td>sensor07</td>\n",
              "    </tr>\n",
              "    <tr>\n",
              "      <th>1</th>\n",
              "      <td>1350.2</td>\n",
              "      <td>8.29750</td>\n",
              "      <td>sensor07</td>\n",
              "    </tr>\n",
              "    <tr>\n",
              "      <th>2</th>\n",
              "      <td>1350.3</td>\n",
              "      <td>8.33000</td>\n",
              "      <td>sensor07</td>\n",
              "    </tr>\n",
              "    <tr>\n",
              "      <th>3</th>\n",
              "      <td>1350.4</td>\n",
              "      <td>8.26280</td>\n",
              "      <td>sensor07</td>\n",
              "    </tr>\n",
              "    <tr>\n",
              "      <th>4</th>\n",
              "      <td>1350.5</td>\n",
              "      <td>8.28260</td>\n",
              "      <td>sensor07</td>\n",
              "    </tr>\n",
              "    <tr>\n",
              "      <th>...</th>\n",
              "      <td>...</td>\n",
              "      <td>...</td>\n",
              "      <td>...</td>\n",
              "    </tr>\n",
              "    <tr>\n",
              "      <th>2995</th>\n",
              "      <td>1649.6</td>\n",
              "      <td>-0.61478</td>\n",
              "      <td>sensor10</td>\n",
              "    </tr>\n",
              "    <tr>\n",
              "      <th>2996</th>\n",
              "      <td>1649.7</td>\n",
              "      <td>-0.53629</td>\n",
              "      <td>sensor10</td>\n",
              "    </tr>\n",
              "    <tr>\n",
              "      <th>2997</th>\n",
              "      <td>1649.8</td>\n",
              "      <td>-0.81838</td>\n",
              "      <td>sensor10</td>\n",
              "    </tr>\n",
              "    <tr>\n",
              "      <th>2998</th>\n",
              "      <td>1649.9</td>\n",
              "      <td>-0.57202</td>\n",
              "      <td>sensor10</td>\n",
              "    </tr>\n",
              "    <tr>\n",
              "      <th>2999</th>\n",
              "      <td>1650.0</td>\n",
              "      <td>-0.42871</td>\n",
              "      <td>sensor10</td>\n",
              "    </tr>\n",
              "  </tbody>\n",
              "</table>\n",
              "<p>30000 rows × 3 columns</p>\n",
              "</div>\n",
              "      <button class=\"colab-df-convert\" onclick=\"convertToInteractive('df-5f13935d-2445-48bb-9bf2-34cbad98f4df')\"\n",
              "              title=\"Convert this dataframe to an interactive table.\"\n",
              "              style=\"display:none;\">\n",
              "        \n",
              "  <svg xmlns=\"http://www.w3.org/2000/svg\" height=\"24px\"viewBox=\"0 0 24 24\"\n",
              "       width=\"24px\">\n",
              "    <path d=\"M0 0h24v24H0V0z\" fill=\"none\"/>\n",
              "    <path d=\"M18.56 5.44l.94 2.06.94-2.06 2.06-.94-2.06-.94-.94-2.06-.94 2.06-2.06.94zm-11 1L8.5 8.5l.94-2.06 2.06-.94-2.06-.94L8.5 2.5l-.94 2.06-2.06.94zm10 10l.94 2.06.94-2.06 2.06-.94-2.06-.94-.94-2.06-.94 2.06-2.06.94z\"/><path d=\"M17.41 7.96l-1.37-1.37c-.4-.4-.92-.59-1.43-.59-.52 0-1.04.2-1.43.59L10.3 9.45l-7.72 7.72c-.78.78-.78 2.05 0 2.83L4 21.41c.39.39.9.59 1.41.59.51 0 1.02-.2 1.41-.59l7.78-7.78 2.81-2.81c.8-.78.8-2.07 0-2.86zM5.41 20L4 18.59l7.72-7.72 1.47 1.35L5.41 20z\"/>\n",
              "  </svg>\n",
              "      </button>\n",
              "      \n",
              "  <style>\n",
              "    .colab-df-container {\n",
              "      display:flex;\n",
              "      flex-wrap:wrap;\n",
              "      gap: 12px;\n",
              "    }\n",
              "\n",
              "    .colab-df-convert {\n",
              "      background-color: #E8F0FE;\n",
              "      border: none;\n",
              "      border-radius: 50%;\n",
              "      cursor: pointer;\n",
              "      display: none;\n",
              "      fill: #1967D2;\n",
              "      height: 32px;\n",
              "      padding: 0 0 0 0;\n",
              "      width: 32px;\n",
              "    }\n",
              "\n",
              "    .colab-df-convert:hover {\n",
              "      background-color: #E2EBFA;\n",
              "      box-shadow: 0px 1px 2px rgba(60, 64, 67, 0.3), 0px 1px 3px 1px rgba(60, 64, 67, 0.15);\n",
              "      fill: #174EA6;\n",
              "    }\n",
              "\n",
              "    [theme=dark] .colab-df-convert {\n",
              "      background-color: #3B4455;\n",
              "      fill: #D2E3FC;\n",
              "    }\n",
              "\n",
              "    [theme=dark] .colab-df-convert:hover {\n",
              "      background-color: #434B5C;\n",
              "      box-shadow: 0px 1px 3px 1px rgba(0, 0, 0, 0.15);\n",
              "      filter: drop-shadow(0px 1px 2px rgba(0, 0, 0, 0.3));\n",
              "      fill: #FFFFFF;\n",
              "    }\n",
              "  </style>\n",
              "\n",
              "      <script>\n",
              "        const buttonEl =\n",
              "          document.querySelector('#df-5f13935d-2445-48bb-9bf2-34cbad98f4df button.colab-df-convert');\n",
              "        buttonEl.style.display =\n",
              "          google.colab.kernel.accessAllowed ? 'block' : 'none';\n",
              "\n",
              "        async function convertToInteractive(key) {\n",
              "          const element = document.querySelector('#df-5f13935d-2445-48bb-9bf2-34cbad98f4df');\n",
              "          const dataTable =\n",
              "            await google.colab.kernel.invokeFunction('convertToInteractive',\n",
              "                                                     [key], {});\n",
              "          if (!dataTable) return;\n",
              "\n",
              "          const docLinkHtml = 'Like what you see? Visit the ' +\n",
              "            '<a target=\"_blank\" href=https://colab.research.google.com/notebooks/data_table.ipynb>data table notebook</a>'\n",
              "            + ' to learn more about interactive tables.';\n",
              "          element.innerHTML = '';\n",
              "          dataTable['output_type'] = 'display_data';\n",
              "          await google.colab.output.renderOutput(dataTable, element);\n",
              "          const docLink = document.createElement('div');\n",
              "          docLink.innerHTML = docLinkHtml;\n",
              "          element.appendChild(docLink);\n",
              "        }\n",
              "      </script>\n",
              "    </div>\n",
              "  </div>\n",
              "  "
            ]
          },
          "metadata": {},
          "execution_count": 43
        }
      ]
    },
    {
      "cell_type": "code",
      "source": [
        "# # all_datas_gather = combine_dfs_air_result.join(combine_dfs_isopropanol_result[combine_dfs_isopropanol_result.columns])\n",
        "# # all_datas_gather\n",
        "\n",
        "# first_merge = combine_dfs_isopropanol_result[combine_dfs_isopropanol_result.columns].merge(combine_dfs_air_result)"
      ],
      "metadata": {
        "id": "y9leRt5wGdXU"
      },
      "execution_count": 44,
      "outputs": []
    },
    {
      "cell_type": "code",
      "source": [],
      "metadata": {
        "id": "mUETkhYCg83y"
      },
      "execution_count": 44,
      "outputs": []
    },
    {
      "cell_type": "code",
      "source": [
        "all_datas_gather = pd.concat([combine_dfs_air_result, combine_dfs_isopropanol_result, combine_dfs_water_result], axis=1)"
      ],
      "metadata": {
        "id": "D-CShG9igqWb"
      },
      "execution_count": 45,
      "outputs": []
    },
    {
      "cell_type": "code",
      "source": [
        "dB_columns=[]\n",
        "for column in all_datas_gather.columns:\n",
        "  if '[dB]' in column:\n",
        "    dB_columns.append(column)"
      ],
      "metadata": {
        "id": "-ZvQP4Dcjgt4"
      },
      "execution_count": 50,
      "outputs": []
    },
    {
      "cell_type": "code",
      "source": [
        "all_datas_gather[dB_columns]"
      ],
      "metadata": {
        "colab": {
          "base_uri": "https://localhost:8080/",
          "height": 424
        },
        "id": "tGWWyhjukL4c",
        "outputId": "30227d32-712c-4c82-a8e7-fc6d64451980"
      },
      "execution_count": 52,
      "outputs": [
        {
          "output_type": "execute_result",
          "data": {
            "text/plain": [
              "      air_frames signal amplitude [dB]  izo_frames signal amplitude [dB]  \\\n",
              "0                              10.0010                           8.32460   \n",
              "1                               9.9366                           8.29750   \n",
              "2                               9.8126                           8.33000   \n",
              "3                               9.8773                           8.26280   \n",
              "4                               9.7859                           8.28260   \n",
              "...                                ...                               ...   \n",
              "2995                            3.2784                          -0.61478   \n",
              "2996                            3.4213                          -0.53629   \n",
              "2997                            3.3112                          -0.81838   \n",
              "2998                            3.4500                          -0.57202   \n",
              "2999                            3.6370                          -0.42871   \n",
              "\n",
              "      water_frames signal amplitude [dB]  \n",
              "0                                 7.3520  \n",
              "1                                 7.3746  \n",
              "2                                 7.2810  \n",
              "3                                 7.0982  \n",
              "4                                 7.1982  \n",
              "...                                  ...  \n",
              "2995                             -1.5635  \n",
              "2996                             -1.4177  \n",
              "2997                             -1.5810  \n",
              "2998                             -1.2834  \n",
              "2999                             -1.2185  \n",
              "\n",
              "[30000 rows x 3 columns]"
            ],
            "text/html": [
              "\n",
              "  <div id=\"df-b4f3d262-13af-4d7f-b660-3b4f58d74d4d\">\n",
              "    <div class=\"colab-df-container\">\n",
              "      <div>\n",
              "<style scoped>\n",
              "    .dataframe tbody tr th:only-of-type {\n",
              "        vertical-align: middle;\n",
              "    }\n",
              "\n",
              "    .dataframe tbody tr th {\n",
              "        vertical-align: top;\n",
              "    }\n",
              "\n",
              "    .dataframe thead th {\n",
              "        text-align: right;\n",
              "    }\n",
              "</style>\n",
              "<table border=\"1\" class=\"dataframe\">\n",
              "  <thead>\n",
              "    <tr style=\"text-align: right;\">\n",
              "      <th></th>\n",
              "      <th>air_frames signal amplitude [dB]</th>\n",
              "      <th>izo_frames signal amplitude [dB]</th>\n",
              "      <th>water_frames signal amplitude [dB]</th>\n",
              "    </tr>\n",
              "  </thead>\n",
              "  <tbody>\n",
              "    <tr>\n",
              "      <th>0</th>\n",
              "      <td>10.0010</td>\n",
              "      <td>8.32460</td>\n",
              "      <td>7.3520</td>\n",
              "    </tr>\n",
              "    <tr>\n",
              "      <th>1</th>\n",
              "      <td>9.9366</td>\n",
              "      <td>8.29750</td>\n",
              "      <td>7.3746</td>\n",
              "    </tr>\n",
              "    <tr>\n",
              "      <th>2</th>\n",
              "      <td>9.8126</td>\n",
              "      <td>8.33000</td>\n",
              "      <td>7.2810</td>\n",
              "    </tr>\n",
              "    <tr>\n",
              "      <th>3</th>\n",
              "      <td>9.8773</td>\n",
              "      <td>8.26280</td>\n",
              "      <td>7.0982</td>\n",
              "    </tr>\n",
              "    <tr>\n",
              "      <th>4</th>\n",
              "      <td>9.7859</td>\n",
              "      <td>8.28260</td>\n",
              "      <td>7.1982</td>\n",
              "    </tr>\n",
              "    <tr>\n",
              "      <th>...</th>\n",
              "      <td>...</td>\n",
              "      <td>...</td>\n",
              "      <td>...</td>\n",
              "    </tr>\n",
              "    <tr>\n",
              "      <th>2995</th>\n",
              "      <td>3.2784</td>\n",
              "      <td>-0.61478</td>\n",
              "      <td>-1.5635</td>\n",
              "    </tr>\n",
              "    <tr>\n",
              "      <th>2996</th>\n",
              "      <td>3.4213</td>\n",
              "      <td>-0.53629</td>\n",
              "      <td>-1.4177</td>\n",
              "    </tr>\n",
              "    <tr>\n",
              "      <th>2997</th>\n",
              "      <td>3.3112</td>\n",
              "      <td>-0.81838</td>\n",
              "      <td>-1.5810</td>\n",
              "    </tr>\n",
              "    <tr>\n",
              "      <th>2998</th>\n",
              "      <td>3.4500</td>\n",
              "      <td>-0.57202</td>\n",
              "      <td>-1.2834</td>\n",
              "    </tr>\n",
              "    <tr>\n",
              "      <th>2999</th>\n",
              "      <td>3.6370</td>\n",
              "      <td>-0.42871</td>\n",
              "      <td>-1.2185</td>\n",
              "    </tr>\n",
              "  </tbody>\n",
              "</table>\n",
              "<p>30000 rows × 3 columns</p>\n",
              "</div>\n",
              "      <button class=\"colab-df-convert\" onclick=\"convertToInteractive('df-b4f3d262-13af-4d7f-b660-3b4f58d74d4d')\"\n",
              "              title=\"Convert this dataframe to an interactive table.\"\n",
              "              style=\"display:none;\">\n",
              "        \n",
              "  <svg xmlns=\"http://www.w3.org/2000/svg\" height=\"24px\"viewBox=\"0 0 24 24\"\n",
              "       width=\"24px\">\n",
              "    <path d=\"M0 0h24v24H0V0z\" fill=\"none\"/>\n",
              "    <path d=\"M18.56 5.44l.94 2.06.94-2.06 2.06-.94-2.06-.94-.94-2.06-.94 2.06-2.06.94zm-11 1L8.5 8.5l.94-2.06 2.06-.94-2.06-.94L8.5 2.5l-.94 2.06-2.06.94zm10 10l.94 2.06.94-2.06 2.06-.94-2.06-.94-.94-2.06-.94 2.06-2.06.94z\"/><path d=\"M17.41 7.96l-1.37-1.37c-.4-.4-.92-.59-1.43-.59-.52 0-1.04.2-1.43.59L10.3 9.45l-7.72 7.72c-.78.78-.78 2.05 0 2.83L4 21.41c.39.39.9.59 1.41.59.51 0 1.02-.2 1.41-.59l7.78-7.78 2.81-2.81c.8-.78.8-2.07 0-2.86zM5.41 20L4 18.59l7.72-7.72 1.47 1.35L5.41 20z\"/>\n",
              "  </svg>\n",
              "      </button>\n",
              "      \n",
              "  <style>\n",
              "    .colab-df-container {\n",
              "      display:flex;\n",
              "      flex-wrap:wrap;\n",
              "      gap: 12px;\n",
              "    }\n",
              "\n",
              "    .colab-df-convert {\n",
              "      background-color: #E8F0FE;\n",
              "      border: none;\n",
              "      border-radius: 50%;\n",
              "      cursor: pointer;\n",
              "      display: none;\n",
              "      fill: #1967D2;\n",
              "      height: 32px;\n",
              "      padding: 0 0 0 0;\n",
              "      width: 32px;\n",
              "    }\n",
              "\n",
              "    .colab-df-convert:hover {\n",
              "      background-color: #E2EBFA;\n",
              "      box-shadow: 0px 1px 2px rgba(60, 64, 67, 0.3), 0px 1px 3px 1px rgba(60, 64, 67, 0.15);\n",
              "      fill: #174EA6;\n",
              "    }\n",
              "\n",
              "    [theme=dark] .colab-df-convert {\n",
              "      background-color: #3B4455;\n",
              "      fill: #D2E3FC;\n",
              "    }\n",
              "\n",
              "    [theme=dark] .colab-df-convert:hover {\n",
              "      background-color: #434B5C;\n",
              "      box-shadow: 0px 1px 3px 1px rgba(0, 0, 0, 0.15);\n",
              "      filter: drop-shadow(0px 1px 2px rgba(0, 0, 0, 0.3));\n",
              "      fill: #FFFFFF;\n",
              "    }\n",
              "  </style>\n",
              "\n",
              "      <script>\n",
              "        const buttonEl =\n",
              "          document.querySelector('#df-b4f3d262-13af-4d7f-b660-3b4f58d74d4d button.colab-df-convert');\n",
              "        buttonEl.style.display =\n",
              "          google.colab.kernel.accessAllowed ? 'block' : 'none';\n",
              "\n",
              "        async function convertToInteractive(key) {\n",
              "          const element = document.querySelector('#df-b4f3d262-13af-4d7f-b660-3b4f58d74d4d');\n",
              "          const dataTable =\n",
              "            await google.colab.kernel.invokeFunction('convertToInteractive',\n",
              "                                                     [key], {});\n",
              "          if (!dataTable) return;\n",
              "\n",
              "          const docLinkHtml = 'Like what you see? Visit the ' +\n",
              "            '<a target=\"_blank\" href=https://colab.research.google.com/notebooks/data_table.ipynb>data table notebook</a>'\n",
              "            + ' to learn more about interactive tables.';\n",
              "          element.innerHTML = '';\n",
              "          dataTable['output_type'] = 'display_data';\n",
              "          await google.colab.output.renderOutput(dataTable, element);\n",
              "          const docLink = document.createElement('div');\n",
              "          docLink.innerHTML = docLinkHtml;\n",
              "          element.appendChild(docLink);\n",
              "        }\n",
              "      </script>\n",
              "    </div>\n",
              "  </div>\n",
              "  "
            ]
          },
          "metadata": {},
          "execution_count": 52
        }
      ]
    },
    {
      "cell_type": "code",
      "source": [
        "sns.heatmap(all_datas_gather[dB_columns].corr(), annot=True)"
      ],
      "metadata": {
        "colab": {
          "base_uri": "https://localhost:8080/",
          "height": 455
        },
        "id": "WjnwWzcPiezk",
        "outputId": "7f2c2c96-3758-4006-830a-1a3af3478406"
      },
      "execution_count": 53,
      "outputs": [
        {
          "output_type": "execute_result",
          "data": {
            "text/plain": [
              "<matplotlib.axes._subplots.AxesSubplot at 0x7f9649e37ac0>"
            ]
          },
          "metadata": {},
          "execution_count": 53
        },
        {
          "output_type": "display_data",
          "data": {
            "text/plain": [
              "<Figure size 432x288 with 2 Axes>"
            ],
            "image/png": "[encoded data removed]"
          },
          "metadata": {
            "needs_background": "light"
          }
        }
      ]
    }
  ]
}