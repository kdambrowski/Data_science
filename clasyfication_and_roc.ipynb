{
  "nbformat": 4,
  "nbformat_minor": 0,
  "metadata": {
    "colab": {
      "provenance": [],
      "authorship_tag": "ABX9TyMJTXU2tdVUznwfJEMTKZKq",
      "include_colab_link": true
    },
    "kernelspec": {
      "name": "python3",
      "display_name": "Python 3"
    },
    "language_info": {
      "name": "python"
    }
  },
  "cells": [
    {
      "cell_type": "markdown",
      "metadata": {
        "id": "view-in-github",
        "colab_type": "text"
      },
      "source": [
        "<a href=\"https://colab.research.google.com/github/kdambrowski/Data_science/blob/main/clasyfication_and_roc.ipynb\" target=\"_parent\"><img src=\"https://colab.research.google.com/assets/colab-badge.svg\" alt=\"Open In Colab\"/></a>"
      ]
    },
    {
      "cell_type": "code",
      "execution_count": null,
      "metadata": {
        "colab": {
          "base_uri": "https://localhost:8080/"
        },
        "id": "NozyOQ6u_WYo",
        "outputId": "3174657f-d3e8-45e6-87f3-6749af04a042"
      },
      "outputs": [
        {
          "output_type": "stream",
          "name": "stdout",
          "text": [
            "Cloning into 'ML-datasets'...\n",
            "remote: Enumerating objects: 194, done.\u001b[K\n",
            "remote: Counting objects: 100% (134/134), done.\u001b[K\n",
            "remote: Compressing objects: 100% (110/110), done.\u001b[K\n",
            "remote: Total 194 (delta 33), reused 124 (delta 24), pack-reused 60\u001b[K\n",
            "Receiving objects: 100% (194/194), 35.45 MiB | 8.87 MiB/s, done.\n",
            "Resolving deltas: 100% (45/45), done.\n",
            "Updating files: 100% (127/127), done.\n"
          ]
        }
      ],
      "source": [
        "!git clone https://github.com/matzim95/ML-datasets"
      ]
    },
    {
      "cell_type": "code",
      "source": [
        "import pandas as pd\n",
        "from sklearn.metrics import accuracy_score, precision_score, recall_score, f1_score\n",
        "from sklearn.model_selection import train_test_split\n",
        "from sklearn.linear_model import LogisticRegression\n",
        "from sklearn.model_selection import train_test_split\n",
        "from pandas._libs.hashtable import value_count\n",
        "\n",
        "import numpy as np\n",
        "import matplotlib.pylab as plt\n",
        "from sklearn.model_selection import GridSearchCV"
      ],
      "metadata": {
        "id": "zcuEuAOo_wBc"
      },
      "execution_count": null,
      "outputs": []
    },
    {
      "cell_type": "code",
      "source": [
        "def load_dataset(filename, class_column, index_col=None):\n",
        "    dataset = pd.read_csv(f'ML-datasets/{filename}.csv', index_col=index_col)\n",
        "    dataset['class'] = dataset[class_column].astype('category').cat.codes\n",
        "    classes = dataset.pop(class_column).unique()\n",
        "    return dataset, classes\n",
        "\n",
        "\n",
        "def calculate_metrics(target, prediction, average='weighted'):\n",
        "    accuracy = accuracy_score(target, prediction)\n",
        "    precision = precision_score(\n",
        "        target, prediction, average=average, zero_division=0)\n",
        "    \n",
        "    recall = recall_score(target, prediction, average=average, zero_division=0)\n",
        "    f1 = f1_score(target, prediction, average=average, zero_division=0)\n",
        "    mislabeled = (target != prediction).sum()\n",
        "    total = len(target)\n",
        "    return accuracy, precision, recall, f1, mislabeled, total\n",
        "\n",
        "def print_results(metrics, classifier_id='classifier'):\n",
        "    print(f'Results for {classifier_id}')\n",
        "    print('----')\n",
        "    print(f'  Accuracy:  {metrics[0]}')\n",
        "    print(f'  Precision: {metrics[1]}')\n",
        "    print(f'  Recall:    {metrics[2]}')\n",
        "    print(f'  F1 score:  {metrics[3]}')\n",
        "    print(f'  Mislabeled {metrics[4]} out of {metrics[5]}')\n",
        "    print('\\n')"
      ],
      "metadata": {
        "id": "FqawO4Kc_wi0"
      },
      "execution_count": null,
      "outputs": []
    },
    {
      "cell_type": "code",
      "source": [
        "wine, wine_classes = load_dataset('wine', 'Class')\n",
        "print(wine_classes)\n",
        "\n",
        "y = wine.pop('class')\n",
        "X = wine"
      ],
      "metadata": {
        "colab": {
          "base_uri": "https://localhost:8080/"
        },
        "id": "nLf77vLn_4Jg",
        "outputId": "0ce3c092-0958-423b-e5e5-89ff5b715a12"
      },
      "execution_count": null,
      "outputs": [
        {
          "output_type": "stream",
          "name": "stdout",
          "text": [
            "['one' 'two' 'three']\n"
          ]
        }
      ]
    },
    {
      "cell_type": "code",
      "source": [
        "X_train, X_test, y_train, y_test = train_test_split(X, y, test_size=0.2,\n",
        "                                                    stratify=y)"
      ],
      "metadata": {
        "id": "MwLgy2mK_84e"
      },
      "execution_count": null,
      "outputs": []
    },
    {
      "cell_type": "code",
      "source": [
        "train_errs = list()\n",
        "test_errs = list()\n",
        "\n",
        "C_values = [10.0**x for x in np.arange(-10, 10, 0.5)]\n",
        "\n",
        "for C_value in C_values:\n",
        "  lr = LogisticRegression(penalty=\"l2\", C=C_value, solver='liblinear')\n",
        "  lr.fit(X_train, y_train)\n",
        "  train_errs.append(1.0 - lr.score(X_train, y_train))\n",
        "  test_errs.append(1.0 - lr.score(X_test, y_test))\n",
        "\n",
        "plt.semilogx(C_values, train_errs, C_values, test_errs)\n",
        "plt.title('ERROR plot for 1-ACC')\n",
        "plt.legend((\"train\", \"validation\"))\n",
        "plt.show()"
      ],
      "metadata": {
        "colab": {
          "base_uri": "https://localhost:8080/",
          "height": 285
        },
        "id": "eBmjzGBAABUk",
        "outputId": "96d71275-e033-4ae8-9c46-a10c7935c5fb"
      },
      "execution_count": null,
      "outputs": [
        {
          "output_type": "display_data",
          "data": {
            "text/plain": [
              "<Figure size 432x288 with 1 Axes>"
            ],
            "image/png": "[encoded data removed]"
          },
          "metadata": {
            "needs_background": "light"
          }
        }
      ]
    },
    {
      "cell_type": "code",
      "source": [
        "lr = LogisticRegression(penalty=\"l2\", C=0.001, solver='liblinear')\n",
        "lr.fit(X_train, y_train)\n",
        "\n",
        "y_pred_train = lr.predict(X_train)\n",
        "y_pred = lr.predict(X_test)\n",
        "\n",
        "\n",
        "print_results(calculate_metrics(y_train, y_pred_train, average='weighted')\n",
        ", classifier_id=\"LR C=0.001 TRAIN SET\")\n",
        "print_results(calculate_metrics(y_test, y_pred, average='weighted')\n",
        ", classifier_id=\"LR C=0.001 TEST SET\")"
      ],
      "metadata": {
        "colab": {
          "base_uri": "https://localhost:8080/"
        },
        "id": "q8oz6Kw-AVo_",
        "outputId": "20e4630c-a943-49bb-819c-7b7f1d281013"
      },
      "execution_count": null,
      "outputs": [
        {
          "output_type": "stream",
          "name": "stdout",
          "text": [
            "Results for LR C=0.001 TRAIN SET\n",
            "----\n",
            "  Accuracy:  0.8028169014084507\n",
            "  Precision: 0.840590319463559\n",
            "  Recall:    0.8028169014084507\n",
            "  F1 score:  0.7837229768204933\n",
            "  Mislabeled 28 out of 142\n",
            "\n",
            "\n",
            "Results for LR C=0.001 TEST SET\n",
            "----\n",
            "  Accuracy:  0.5833333333333334\n",
            "  Precision: 0.7137681159420289\n",
            "  Recall:    0.5833333333333334\n",
            "  F1 score:  0.5317362817362817\n",
            "  Mislabeled 15 out of 36\n",
            "\n",
            "\n"
          ]
        }
      ]
    },
    {
      "cell_type": "code",
      "source": [
        "lr = LogisticRegression(penalty=\"l2\", C=1000, solver='liblinear')\n",
        "lr.fit(X_train, y_train)\n",
        "\n",
        "y_pred_train = lr.predict(X_train)\n",
        "y_pred = lr.predict(X_test)\n",
        "\n",
        "print_results(calculate_metrics(y_train, y_pred_train, average='weighted')\n",
        ", classifier_id=\"LR C=1000 TRAIN SET\")\n",
        "print_results(calculate_metrics(y_test, y_pred, average='weighted')\n",
        ", classifier_id=\"LR C=1000 TEST SET\")\n"
      ],
      "metadata": {
        "colab": {
          "base_uri": "https://localhost:8080/"
        },
        "id": "WcryI9XRAfxa",
        "outputId": "34ba2d12-ea2c-44e3-96b0-8c847e8a43d3"
      },
      "execution_count": null,
      "outputs": [
        {
          "output_type": "stream",
          "name": "stdout",
          "text": [
            "Results for LR C=1000 TRAIN SET\n",
            "----\n",
            "  Accuracy:  1.0\n",
            "  Precision: 1.0\n",
            "  Recall:    1.0\n",
            "  F1 score:  1.0\n",
            "  Mislabeled 0 out of 142\n",
            "\n",
            "\n",
            "Results for LR C=1000 TEST SET\n",
            "----\n",
            "  Accuracy:  0.8888888888888888\n",
            "  Precision: 0.8888888888888888\n",
            "  Recall:    0.8888888888888888\n",
            "  F1 score:  0.8888888888888888\n",
            "  Mislabeled 4 out of 36\n",
            "\n",
            "\n"
          ]
        }
      ]
    },
    {
      "cell_type": "code",
      "source": [
        "lr = LogisticRegression(penalty=\"l2\", C=1, solver='liblinear')\n",
        "lr.fit(X_train, y_train)\n",
        "\n",
        "y_pred_train = lr.predict(X_train)\n",
        "y_pred = lr.predict(X_test)\n",
        "\n",
        "print_results(calculate_metrics(y_train, y_pred_train, average='weighted')\n",
        ", classifier_id=\"LR C=1 TRAIN SET\")\n",
        "print_results(calculate_metrics(y_test, y_pred, average='weighted')\n",
        ", classifier_id=\"LR C=1 TEST SET\")"
      ],
      "metadata": {
        "colab": {
          "base_uri": "https://localhost:8080/"
        },
        "id": "2DWiIEjYAh8W",
        "outputId": "2d7a1bdd-c941-49d3-df47-b18ea965e6ef"
      },
      "execution_count": null,
      "outputs": [
        {
          "output_type": "stream",
          "name": "stdout",
          "text": [
            "Results for LR C=1 TRAIN SET\n",
            "----\n",
            "  Accuracy:  0.971830985915493\n",
            "  Precision: 0.971830985915493\n",
            "  Recall:    0.971830985915493\n",
            "  F1 score:  0.971830985915493\n",
            "  Mislabeled 4 out of 142\n",
            "\n",
            "\n",
            "Results for LR C=1 TEST SET\n",
            "----\n",
            "  Accuracy:  0.8888888888888888\n",
            "  Precision: 0.8888888888888888\n",
            "  Recall:    0.8888888888888888\n",
            "  F1 score:  0.8888888888888888\n",
            "  Mislabeled 4 out of 36\n",
            "\n",
            "\n"
          ]
        }
      ]
    },
    {
      "cell_type": "code",
      "source": [
        "lr = LogisticRegression(penalty=\"l2\", solver='liblinear')"
      ],
      "metadata": {
        "id": "WXLAi9MOAmuu"
      },
      "execution_count": null,
      "outputs": []
    },
    {
      "cell_type": "code",
      "source": [
        "searcher = GridSearchCV(estimator=lr, param_grid={'C': C_values}, cv=5)\n",
        "searcher.fit(X_train, y_train)"
      ],
      "metadata": {
        "colab": {
          "base_uri": "https://localhost:8080/"
        },
        "id": "BzW7v99iApDQ",
        "outputId": "22d32677-0b0a-4450-e912-0a3cb51251b1"
      },
      "execution_count": null,
      "outputs": [
        {
          "output_type": "execute_result",
          "data": {
            "text/plain": [
              "GridSearchCV(cv=5, estimator=LogisticRegression(solver='liblinear'),\n",
              "             param_grid={'C': [1e-10, 3.1622776601683795e-10, 1e-09,\n",
              "                               3.1622776601683795e-09, 1e-08,\n",
              "                               3.162277660168379e-08, 1e-07,\n",
              "                               3.162277660168379e-07, 1e-06,\n",
              "                               3.162277660168379e-06, 1e-05,\n",
              "                               3.1622776601683795e-05, 0.0001,\n",
              "                               0.00031622776601683794, 0.001,\n",
              "                               0.0031622776601683794, 0.01, 0.03162277660168379,\n",
              "                               0.1, 0.31622776601683794, 1.0,\n",
              "                               3.1622776601683795, 10.0, 31.622776601683793,\n",
              "                               100.0, 316.22776601683796, 1000.0,\n",
              "                               3162.2776601683795, 10000.0, 31622.776601683792, ...]})"
            ]
          },
          "metadata": {},
          "execution_count": 11
        }
      ]
    },
    {
      "cell_type": "code",
      "source": [
        "print(searcher.best_estimator_,\n",
        "searcher.best_params_['C'],\n",
        "searcher.best_params_)"
      ],
      "metadata": {
        "colab": {
          "base_uri": "https://localhost:8080/"
        },
        "id": "n6BZ8jHHArYF",
        "outputId": "f82e7344-5170-4c7f-9217-86ce9a41d419"
      },
      "execution_count": null,
      "outputs": [
        {
          "output_type": "stream",
          "name": "stdout",
          "text": [
            "LogisticRegression(solver='liblinear') 1.0 {'C': 1.0}\n"
          ]
        }
      ]
    },
    {
      "cell_type": "markdown",
      "source": [
        "#grind search"
      ],
      "metadata": {
        "id": "DLacmAQGA3qW"
      }
    },
    {
      "cell_type": "code",
      "source": [
        "lr = LogisticRegression(penalty=\"l2\", C= searcher.best_params_['C'],\n",
        "                        solver='liblinear')\n",
        "lr.fit(X_train, y_train)\n",
        "\n",
        "y_pred_train = lr.predict(X_train)\n",
        "y_pred = lr.predict(X_test)\n",
        "\n",
        "print_results(calculate_metrics(y_train, y_pred_train, average='weighted')\n",
        ", classifier_id=\"LR C=0.1 TRAIN SET\")\n",
        "print_results(calculate_metrics(y_test, y_pred, average='weighted')\n",
        ", classifier_id=\"LR C=0.1 TEST SET\")"
      ],
      "metadata": {
        "colab": {
          "base_uri": "https://localhost:8080/"
        },
        "id": "w1YyzriaA0g5",
        "outputId": "bae99b02-e0ec-4b96-8b06-36fad35cdfc4"
      },
      "execution_count": null,
      "outputs": [
        {
          "output_type": "stream",
          "name": "stdout",
          "text": [
            "Results for LR C=0.1 TRAIN SET\n",
            "----\n",
            "  Accuracy:  0.971830985915493\n",
            "  Precision: 0.971830985915493\n",
            "  Recall:    0.971830985915493\n",
            "  F1 score:  0.971830985915493\n",
            "  Mislabeled 4 out of 142\n",
            "\n",
            "\n",
            "Results for LR C=0.1 TEST SET\n",
            "----\n",
            "  Accuracy:  0.8888888888888888\n",
            "  Precision: 0.8888888888888888\n",
            "  Recall:    0.8888888888888888\n",
            "  F1 score:  0.8888888888888888\n",
            "  Mislabeled 4 out of 36\n",
            "\n",
            "\n"
          ]
        }
      ]
    },
    {
      "cell_type": "markdown",
      "source": [
        "ROC ONE VS REST"
      ],
      "metadata": {
        "id": "Jl6xQFgpA-2m"
      }
    },
    {
      "cell_type": "code",
      "source": [
        "import numpy as np\n",
        "import matplotlib.pyplot as plt\n",
        "from itertools import cycle\n",
        "\n",
        "from sklearn import svm, datasets\n",
        "from sklearn.metrics import roc_curve, auc\n",
        "from sklearn.model_selection import train_test_split\n",
        "from sklearn.preprocessing import label_binarize, OneHotEncoder\n",
        "from sklearn.multiclass import OneVsRestClassifier\n",
        "from sklearn.metrics import roc_auc_score"
      ],
      "metadata": {
        "id": "no1fM3zLBBjE"
      },
      "execution_count": null,
      "outputs": []
    },
    {
      "cell_type": "code",
      "source": [
        "y_bin = label_binarize(y, classes=[0, 1, 2]) \n",
        "n_classes = y_bin.shape[1]\n",
        "n_classes"
      ],
      "metadata": {
        "colab": {
          "base_uri": "https://localhost:8080/"
        },
        "id": "EJQ6aFe6BEAS",
        "outputId": "fbcee284-f97a-40b9-8817-dfa5583ca199"
      },
      "execution_count": null,
      "outputs": [
        {
          "output_type": "execute_result",
          "data": {
            "text/plain": [
              "3"
            ]
          },
          "metadata": {},
          "execution_count": 18
        }
      ]
    },
    {
      "cell_type": "code",
      "source": [
        "X_train2, X_test2, y_train2, y_test2 = train_test_split(X, y_bin, test_size=0.2, random_state=4)"
      ],
      "metadata": {
        "id": "ut_CRVWbBIV-"
      },
      "execution_count": null,
      "outputs": []
    },
    {
      "cell_type": "code",
      "source": [
        "LogR = OneVsRestClassifier(LogisticRegression(penalty=\"l1\", C=0.31, solver='liblinear'))"
      ],
      "metadata": {
        "id": "Mb9gasg5BJcq"
      },
      "execution_count": null,
      "outputs": []
    },
    {
      "cell_type": "code",
      "source": [
        "y_score = LogR.fit(X_train2,y_train2).decision_function(X_test2)"
      ],
      "metadata": {
        "id": "WM0bms-kBLhP"
      },
      "execution_count": null,
      "outputs": []
    },
    {
      "cell_type": "code",
      "source": [
        "fpr = dict()\n",
        "tpr = dict()\n",
        "roc_auc = dict()\n",
        "for i in range(n_classes):\n",
        "    fpr[i], tpr[i], _ = roc_curve(y_test2[:, i], y_score[:, i])\n",
        "    roc_auc[i] = auc(fpr[i], tpr[i])\n",
        "\n",
        "fpr.keys(),tpr.keys(),roc_auc.keys()"
      ],
      "metadata": {
        "colab": {
          "base_uri": "https://localhost:8080/"
        },
        "id": "KKxk6LPuBNWD",
        "outputId": "57444b78-5a1f-438e-ff14-074bfece1f12"
      },
      "execution_count": null,
      "outputs": [
        {
          "output_type": "execute_result",
          "data": {
            "text/plain": [
              "(dict_keys([0, 1, 2]), dict_keys([0, 1, 2]), dict_keys([0, 1, 2]))"
            ]
          },
          "metadata": {},
          "execution_count": 22
        }
      ]
    },
    {
      "cell_type": "code",
      "source": [
        "fpr[\"micro\"], tpr[\"micro\"], _ = roc_curve(y_test2.ravel(), y_score.ravel())\n",
        "roc_auc[\"micro\"] = auc(fpr[\"micro\"], tpr[\"micro\"])"
      ],
      "metadata": {
        "id": "6hQLVIYxBT6A"
      },
      "execution_count": null,
      "outputs": []
    },
    {
      "cell_type": "code",
      "source": [
        "plt.figure()\n",
        "lw = 2 # szerokość linii\n",
        "plt.plot(\n",
        "    fpr['micro'],\n",
        "    tpr['micro'],\n",
        "    color=\"darkorange\",\n",
        "    lw=lw,\n",
        "    label=\"ROC curve for micro average (area = %0.4f)\" % roc_auc['micro'],\n",
        ")\n",
        "plt.plot([0, 1], [0, 1], color=\"navy\", lw=lw, linestyle=\"--\")\n",
        "plt.xlim([0.0, 1.0])\n",
        "plt.ylim([0.0, 1.05])\n",
        "plt.xlabel(\"False Positive Rate\")\n",
        "plt.ylabel(\"True Positive Rate\")\n",
        "plt.title(\"Receiver operating characteristic micro average\")\n",
        "plt.legend(loc=\"lower right\")\n",
        "plt.show()"
      ],
      "metadata": {
        "colab": {
          "base_uri": "https://localhost:8080/",
          "height": 295
        },
        "id": "-BwH9qqdBaWy",
        "outputId": "c46bae72-6842-4e7d-c86a-170dbf97a1c4"
      },
      "execution_count": null,
      "outputs": [
        {
          "output_type": "display_data",
          "data": {
            "text/plain": [
              "<Figure size 432x288 with 1 Axes>"
            ],
            "image/png": "[encoded data removed]"
          },
          "metadata": {
            "needs_background": "light"
          }
        }
      ]
    },
    {
      "cell_type": "code",
      "source": [
        "fpr = dict()\n",
        "tpr = dict()\n",
        "roc_auc = dict()\n",
        "for i in range(n_classes):\n",
        "    fpr[i], tpr[i], _ = roc_curve(y_test2[:, i], y_score[:, i])\n",
        "    roc_auc[i] = auc(fpr[i], tpr[i])"
      ],
      "metadata": {
        "id": "vHFOEFksBfB2"
      },
      "execution_count": null,
      "outputs": []
    },
    {
      "cell_type": "code",
      "source": [
        "fpr[\"micro\"], tpr[\"micro\"], _ = roc_curve(y_test2.ravel(), y_score.ravel())\n",
        "roc_auc[\"micro\"] = auc(fpr[\"micro\"], tpr[\"micro\"])\n",
        "all_fpr = np.unique(np.concatenate([fpr[i] for i in range(n_classes)]))"
      ],
      "metadata": {
        "id": "hG7kf7fGBhVO"
      },
      "execution_count": null,
      "outputs": []
    },
    {
      "cell_type": "code",
      "source": [
        "mean_tpr = np.zeros_like(all_fpr)\n",
        "for i in range(n_classes):\n",
        "  mean_tpr += np.interp(all_fpr, fpr[i], tpr[i])\n"
      ],
      "metadata": {
        "id": "Upgmkb1DBnU3"
      },
      "execution_count": null,
      "outputs": []
    },
    {
      "cell_type": "code",
      "source": [
        "\n",
        "mean_tpr /= n_classes\n",
        "\n",
        "fpr[\"macro\"] = all_fpr\n",
        "tpr[\"macro\"] = mean_tpr\n",
        "roc_auc[\"macro\"] = auc(fpr[\"macro\"], tpr[\"macro\"])\n",
        "\n",
        "plt.figure()\n",
        "plt.plot(\n",
        "    fpr[\"micro\"],\n",
        "    tpr[\"micro\"],\n",
        "    label=\"micro-average ROC curve (area = {0:0.2f})\".format(roc_auc[\"micro\"]),\n",
        "    color=\"deeppink\",\n",
        "    linestyle=\":\",\n",
        "    linewidth=4,\n",
        ")\n",
        "\n",
        "plt.plot(\n",
        "    fpr[\"macro\"],\n",
        "    tpr[\"macro\"],\n",
        "    label=\"macro-average ROC curve (area = {0:0.2f})\".format(roc_auc[\"macro\"]),\n",
        "    color=\"navy\",\n",
        "    linestyle=\":\",\n",
        "    linewidth=4,\n",
        ")\n",
        "\n",
        "colors = cycle([\"aqua\", \"darkorange\", \"cornflowerblue\"])\n",
        "for i, color in zip(range(n_classes), colors):\n",
        "    plt.plot(\n",
        "        fpr[i],\n",
        "        tpr[i],\n",
        "        color=color,\n",
        "        lw=lw,\n",
        "        label=\"ROC curve of class {0} (area = {1:0.2f})\".format(i, roc_auc[i]),\n",
        "    )\n",
        "\n",
        "plt.plot([0, 1], [0, 1], \"k--\", lw=lw)\n",
        "plt.xlim([0.0, 1.0])\n",
        "plt.ylim([0.0, 1.05])\n",
        "plt.xlabel(\"False Positive Rate\")\n",
        "plt.ylabel(\"True Positive Rate\")\n",
        "plt.title(\"Some extension of Receiver operating characteristic to multiclass\")\n",
        "plt.legend(loc=\"lower right\")\n",
        "plt.show()"
      ],
      "metadata": {
        "colab": {
          "base_uri": "https://localhost:8080/",
          "height": 295
        },
        "id": "0bBB5wE1BqOz",
        "outputId": "9757f0db-9d9e-41b6-a091-be80fa64a628"
      },
      "execution_count": null,
      "outputs": [
        {
          "output_type": "display_data",
          "data": {
            "text/plain": [
              "<Figure size 432x288 with 1 Axes>"
            ],
            "image/png": "[encoded data removed]"
          },
          "metadata": {
            "needs_background": "light"
          }
        }
      ]
    }
  ]
}